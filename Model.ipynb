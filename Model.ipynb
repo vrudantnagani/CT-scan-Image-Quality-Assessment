{
 "cells": [
  {
   "cell_type": "markdown",
   "metadata": {},
   "source": [
    "# SVM Model - Nagani Vrudant Gopalbhai (RA1811003010170)"
   ]
  },
  {
   "cell_type": "markdown",
   "metadata": {},
   "source": [
    "Importing Libraries"
   ]
  },
  {
   "cell_type": "code",
   "execution_count": 1,
   "metadata": {},
   "outputs": [],
   "source": [
    "import numpy as np\n",
    "import matplotlib.pyplot as plt\n",
    "import pandas as pd\n",
    "from sklearn.preprocessing import StandardScaler\n",
    "from sklearn.svm import SVR"
   ]
  },
  {
   "cell_type": "markdown",
   "metadata": {},
   "source": [
    "Reading Datasets and Spliting them into Training and Test Sets"
   ]
  },
  {
   "cell_type": "markdown",
   "metadata": {},
   "source": [
    "Training Sets"
   ]
  },
  {
   "cell_type": "code",
   "execution_count": 2,
   "metadata": {},
   "outputs": [],
   "source": [
    "f1 = open('E:/My/SRM UNIVERSITY/3rd year/Sem 6/Digital Image Processing/Project/Model/dataset/ratings.txt', 'r')\n",
    "l1 = f1.readlines()\n",
    "k=0\n",
    "ratingtrl = []\n",
    "for i in l1:\n",
    "    ratingtrl.append(int(float(i)))\n",
    "    k+=1\n",
    "    if(k==2000):\n",
    "        break\n",
    "\n",
    "f2 = open('E:/My/SRM UNIVERSITY/3rd year/Sem 6/Digital Image Processing/Project/Model/dataset/cont_resol.txt', 'r')\n",
    "l2 = f2.readlines()\n",
    "k=0\n",
    "conttrl = []\n",
    "for i in l2:\n",
    "    conttrl.append(float(i))\n",
    "    k+=1\n",
    "    if(k==2000):\n",
    "        break\n",
    "\n",
    "f3 = open('E:/My/SRM UNIVERSITY/3rd year/Sem 6/Digital Image Processing/Project/Model/dataset/greylev_resol.txt', 'r')\n",
    "l3 = f3.readlines()\n",
    "k=0\n",
    "greytrl = []\n",
    "for i in l3:\n",
    "    greytrl.append(float(i))\n",
    "    k+=1\n",
    "    if(k==2000):\n",
    "        break\n",
    "\n",
    "f4 = open('E:/My/SRM UNIVERSITY/3rd year/Sem 6/Digital Image Processing/Project/Model/dataset/spar_resol.txt', 'r')\n",
    "l4 = f4.readlines()\n",
    "k=0\n",
    "spartrl = []\n",
    "for i in l4:\n",
    "    spartrl.append(float(i))\n",
    "    k+=1\n",
    "    if(k==2000):\n",
    "        break"
   ]
  },
  {
   "cell_type": "markdown",
   "metadata": {},
   "source": [
    "Test Sets"
   ]
  },
  {
   "cell_type": "code",
   "execution_count": 3,
   "metadata": {},
   "outputs": [],
   "source": [
    "f5 = open('E:/My/SRM UNIVERSITY/3rd year/Sem 6/Digital Image Processing/Project/Model/dataset/ratings.txt', 'r')\n",
    "l5 = f5.readlines()\n",
    "k=2000\n",
    "ratingtel = []\n",
    "for i in l5[k:]:\n",
    "    ratingtel.append(int(float(i)))\n",
    "\n",
    "f6 = open('E:/My/SRM UNIVERSITY/3rd year/Sem 6/Digital Image Processing/Project/Model/dataset/cont_resol.txt', 'r')\n",
    "l6 = f6.readlines()\n",
    "conttel = []\n",
    "for i in l6[k:]:\n",
    "    conttel.append(float(i))\n",
    "\n",
    "f7 = open('E:/My/SRM UNIVERSITY/3rd year/Sem 6/Digital Image Processing/Project/Model/dataset/greylev_resol.txt', 'r')\n",
    "l7 = f7.readlines()\n",
    "greytel = []\n",
    "for i in l7[k:]:\n",
    "    greytel.append(float(i))\n",
    "\n",
    "f8 = open('E:/My/SRM UNIVERSITY/3rd year/Sem 6/Digital Image Processing/Project/Model/dataset/spar_resol.txt', 'r')\n",
    "l8 = f8.readlines()\n",
    "spartel = []\n",
    "for i in l8[k:]:\n",
    "    spartel.append(float(i))"
   ]
  },
  {
   "cell_type": "markdown",
   "metadata": {},
   "source": [
    "Converting The Training and Test sets of Selected Features in numpy array(inputs)"
   ]
  },
  {
   "cell_type": "code",
   "execution_count": 4,
   "metadata": {},
   "outputs": [],
   "source": [
    "x=[]\n",
    "for i in range(2000):\n",
    "    x.append((conttrl[i], greytrl[i], spartrl[i]))\n",
    "x_train = np.array(x)\n",
    "\n",
    "x1=[]\n",
    "for i in range(1000):\n",
    "    x1.append((conttel[i], greytel[i], spartel[i]))\n",
    "x_test = np.array(x1)"
   ]
  },
  {
   "cell_type": "markdown",
   "metadata": {},
   "source": [
    "Converting The Training and Test sets of Image Quality Levels in numpy array(outputs)"
   ]
  },
  {
   "cell_type": "code",
   "execution_count": 5,
   "metadata": {},
   "outputs": [],
   "source": [
    "y_train = np.array(ratingtrl)\n",
    "y_test = np.array(ratingtel)"
   ]
  },
  {
   "cell_type": "markdown",
   "metadata": {},
   "source": [
    "Creating a model using SVR class from Support Vector Machine(SVM)"
   ]
  },
  {
   "cell_type": "code",
   "execution_count": 6,
   "metadata": {},
   "outputs": [],
   "source": [
    "model = SVR(kernel='rbf', gamma='scale')"
   ]
  },
  {
   "cell_type": "markdown",
   "metadata": {},
   "source": [
    "Training the model using Selected Features"
   ]
  },
  {
   "cell_type": "code",
   "execution_count": 7,
   "metadata": {},
   "outputs": [
    {
     "data": {
      "text/plain": [
       "SVR(C=1.0, cache_size=200, coef0=0.0, degree=3, epsilon=0.1, gamma='scale',\n",
       "    kernel='rbf', max_iter=-1, shrinking=True, tol=0.001, verbose=False)"
      ]
     },
     "execution_count": 7,
     "metadata": {},
     "output_type": "execute_result"
    }
   ],
   "source": [
    "model.fit(x_train, y_train)"
   ]
  },
  {
   "cell_type": "markdown",
   "metadata": {},
   "source": [
    "Predicting the Results using Test Sets"
   ]
  },
  {
   "cell_type": "code",
   "execution_count": 8,
   "metadata": {},
   "outputs": [],
   "source": [
    "predicted = model.predict(x_test)"
   ]
  },
  {
   "cell_type": "markdown",
   "metadata": {},
   "source": [
    "Evaluating the model to get the accuracy of predicted results"
   ]
  },
  {
   "cell_type": "code",
   "execution_count": 9,
   "metadata": {},
   "outputs": [
    {
     "name": "stdout",
     "output_type": "stream",
     "text": [
      "Accuracy of the model: 85.38%\n"
     ]
    }
   ],
   "source": [
    "for i in range(len(predicted)):\n",
    "    predicted[i]=round(predicted[i])\n",
    "    \n",
    "s=0\n",
    "for i in range(len(predicted)):\n",
    "    if y_test[i]==0:\n",
    "        continue\n",
    "    c=abs(predicted[i]-y_test[i])\n",
    "    x=abs(y_test[i]-c)/y_test[i]\n",
    "    x=x*100\n",
    "    s=s+x\n",
    "\n",
    "print(\"Accuracy of the model: {}%\".format(round(s/1000,2)))"
   ]
  },
  {
   "cell_type": "markdown",
   "metadata": {},
   "source": [
    "Predicting the result with manual input for Selected Features "
   ]
  },
  {
   "cell_type": "code",
   "execution_count": 10,
   "metadata": {},
   "outputs": [
    {
     "name": "stdout",
     "output_type": "stream",
     "text": [
      "Enter values in decimal and in range(0,1)\n",
      "\n",
      "Enter the Constrast Resolution: 0.856\n",
      "Enter the Grey Level Resolution: 0.976\n",
      "Enter the Spatial Resolution: 0.769\n",
      "\n",
      "CT Image Quality level on scale of 0-10 :  2.78\n"
     ]
    }
   ],
   "source": [
    "print(\"Enter values in decimal and in range(0,1)\\n\")\n",
    "cl = float(input(\"Enter the Constrast Resolution: \"))\n",
    "gl = float(input(\"Enter the Grey Level Resolution: \"))\n",
    "sl = float(input(\"Enter the Spatial Resolution: \"))\n",
    "pred = model.predict([[cl, gl, sl]])\n",
    "print(\"\\nCT Image Quality level on scale of 0-10 : \",round(pred[0],2))"
   ]
  }
 ],
 "metadata": {
  "kernelspec": {
   "display_name": "Python 3",
   "language": "python",
   "name": "python3"
  },
  "language_info": {
   "codemirror_mode": {
    "name": "ipython",
    "version": 3
   },
   "file_extension": ".py",
   "mimetype": "text/x-python",
   "name": "python",
   "nbconvert_exporter": "python",
   "pygments_lexer": "ipython3",
   "version": "3.7.4"
  }
 },
 "nbformat": 4,
 "nbformat_minor": 2
}
